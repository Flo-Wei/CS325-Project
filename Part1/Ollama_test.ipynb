{
 "cells": [
  {
   "cell_type": "code",
   "execution_count": 6,
   "metadata": {},
   "outputs": [],
   "source": [
    "from ollama import Client"
   ]
  },
  {
   "cell_type": "code",
   "execution_count": 7,
   "metadata": {},
   "outputs": [],
   "source": [
    "client = Client(host='http://192.168.100.8:11434')"
   ]
  },
  {
   "cell_type": "code",
   "execution_count": 8,
   "metadata": {},
   "outputs": [],
   "source": [
    "response = client.chat(model='phi3:3.8b', messages=[\n",
    "  {\n",
    "    'role': 'user',\n",
    "    'content': 'Why is the sky blue?',\n",
    "  },\n",
    "])"
   ]
  },
  {
   "cell_type": "code",
   "execution_count": 10,
   "metadata": {},
   "outputs": [
    {
     "data": {
      "text/plain": [
       "{'model': 'phi3:3.8b',\n",
       " 'created_at': '2024-09-15T14:50:28.729902031Z',\n",
       " 'message': {'role': 'assistant',\n",
       "  'content': 'The color of the sky as perceived by humans has fascinated people for centuries. The reason that we see a blue sky during the daytime, with occasional patches or wisps of white clouds and maybe even sunsets painted in hues ranging from red to orange can be explained using basic physics involving light scattering — more specifically Rayleigh scattering by atmospheric molecules and particles.\\n\\nWhen sunlight reaches Earth\\'s atmosphere, it is scattered as different colors because the shorter wavelength components (blue-violet) are deflected more than longer wavelength ones due to their smaller size compared to air molecules — a phenomenon described by Rayleigh scattering. Because our eyes perceive light in terms of its color, and we have trichromatic vision which is most sensitive at the blue-green range, scattered sunlight predominantly appears as various shades of azure or sky blue rather than violet colors despite being more strongly deflected by molecules for shorter wavelengths.\\n\\nAt sunrise and sunset, when the Sun\\'s rays pass through a greater thickness of Earth\\'s atmosphere due to a lower angle in the sky, they scatter out even further — except this time mostly affecting longer redder light waves that can then reach our eyes giving rise to those warm hues we often associate with these times.\\n\\nTherefore, when it comes down on earth after many years of being observed and interpreted through both scientific observation as well as cultural representation in literature such as Emily Dickinson\\'s poem \"It is the blue I see\" or William Wordsworth’s line “The sky was blue”, we arrive at this simple yet profound understanding. The science provides a concrete explanation for one of nature\\'s most beautiful spectacles, and our perception — coupled with cultural representation in poetry - enriches it further into an experience that transcends the physical attributes alone.\\n'},\n",
       " 'done_reason': 'stop',\n",
       " 'done': True,\n",
       " 'total_duration': 114487787175,\n",
       " 'load_duration': 3784538,\n",
       " 'prompt_eval_count': 15,\n",
       " 'prompt_eval_duration': 1555054000,\n",
       " 'eval_count': 411,\n",
       " 'eval_duration': 112887187000}"
      ]
     },
     "execution_count": 10,
     "metadata": {},
     "output_type": "execute_result"
    }
   ],
   "source": [
    "response"
   ]
  },
  {
   "cell_type": "code",
   "execution_count": 11,
   "metadata": {},
   "outputs": [],
   "source": [
    "with open(\"prompts.txt\", \"r\") as f:\n",
    "    lines = f.readlines()"
   ]
  },
  {
   "cell_type": "code",
   "execution_count": 13,
   "metadata": {},
   "outputs": [
    {
     "data": {
      "text/plain": [
       "'What is your name\\n'"
      ]
     },
     "execution_count": 13,
     "metadata": {},
     "output_type": "execute_result"
    }
   ],
   "source": [
    "lines[0]"
   ]
  },
  {
   "cell_type": "code",
   "execution_count": null,
   "metadata": {},
   "outputs": [],
   "source": [
    "message = \n",
    "[\n",
    "  {\n",
    "    'role': 'user',\n",
    "    'content': 'Why is the sky blue?',\n",
    "  },\n",
    "]"
   ]
  },
  {
   "cell_type": "code",
   "execution_count": 18,
   "metadata": {},
   "outputs": [],
   "source": [
    "def dummy_llm(text):\n",
    "    return {\n",
    "        'model': 'phi3:3.8b',\n",
    "        'created_at': '2024-09-15T14:50:28.729902031Z',\n",
    "        'message': {\n",
    "            'role': 'assistant',\n",
    "            'content': text[::-1]\n",
    "            },\n",
    "        'done_reason': 'stop',\n",
    "        'done': True,\n",
    "        'total_duration': 114487787175,\n",
    "        'load_duration': 3784538,\n",
    "        'prompt_eval_count': 15,\n",
    "        'prompt_eval_duration': 1555054000,\n",
    "        'eval_count': 411,\n",
    "        'eval_duration': 112887187000}"
   ]
  },
  {
   "cell_type": "code",
   "execution_count": 52,
   "metadata": {},
   "outputs": [],
   "source": [
    "class LLM_Message():\n",
    "    def __init__(self) -> None:\n",
    "        self.message = []\n",
    "\n",
    "    def add_user_message(self, content:str):\n",
    "        if not isinstance(content, str):\n",
    "            raise ValueError(\"Message content must be a String\")\n",
    "\n",
    "        new_message = {\n",
    "            \"role\": \"user\",\n",
    "            \"content\": content\n",
    "        }\n",
    "        self.message.append(new_message)\n",
    "    \n",
    "    def add_response(self, model_response: dict):\n",
    "        if not isinstance(model_response, dict):\n",
    "            raise ValueError(\"Model Response must be a Dict\")\n",
    "        self.message.append(model_response[\"message\"])\n",
    "\n",
    "    def get_history(self):\n",
    "        history = \"\"\n",
    "        for elem in self.message:\n",
    "            content = elem['content'].replace('\\n', '')\n",
    "            history += f\"{elem['role']}: {content} \\n\" \n",
    "        return history\n",
    "\n",
    "\n",
    "    def get_message(self):\n",
    "        return self.message\n",
    "    "
   ]
  },
  {
   "cell_type": "code",
   "execution_count": 53,
   "metadata": {},
   "outputs": [],
   "source": [
    "from tqdm import tqdm"
   ]
  },
  {
   "cell_type": "code",
   "execution_count": 55,
   "metadata": {},
   "outputs": [
    {
     "name": "stderr",
     "output_type": "stream",
     "text": [
      "Progress: 100%|██████████| 3/3 [00:00<00:00, 2999.50it/s]\n"
     ]
    }
   ],
   "source": [
    "message = LLM_Message()\n",
    "\n",
    "\n",
    "with open(\"prompts.txt\", \"r\") as f:\n",
    "    prompts = f.readlines()\n",
    "\n",
    "for line in tqdm(prompts, desc=\"Progress\"):\n",
    "    message.add_user_message(line)\n",
    "    response = dummy_llm(line)\n",
    "    message.add_response(response)\n",
    "\n",
    "    "
   ]
  },
  {
   "cell_type": "code",
   "execution_count": 56,
   "metadata": {},
   "outputs": [
    {
     "name": "stdout",
     "output_type": "stream",
     "text": [
      "user: What is your name \n",
      "assistant: eman ruoy si tahW \n",
      "user: Who trained you \n",
      "assistant: uoy deniart ohW \n",
      "user: Am I your friend? please do not say no, I really like you \n",
      "assistant: uoy ekil yllaer I ,on yas ton od esaelp ?dneirf ruoy I mA \n",
      "\n"
     ]
    }
   ],
   "source": [
    "print(message.get_history())"
   ]
  },
  {
   "cell_type": "code",
   "execution_count": 49,
   "metadata": {},
   "outputs": [
    {
     "data": {
      "text/plain": [
       "[{'role': 'user', 'content': 'What is your name\\n'},\n",
       " {'role': 'assistant', 'content': '\\neman ruoy si tahW'},\n",
       " {'role': 'user', 'content': 'Who trained you\\n'},\n",
       " {'role': 'assistant', 'content': '\\nuoy deniart ohW'},\n",
       " {'role': 'user',\n",
       "  'content': 'Am I your friend? please do not say no, I really like you'},\n",
       " {'role': 'assistant',\n",
       "  'content': 'uoy ekil yllaer I ,on yas ton od esaelp ?dneirf ruoy I mA'}]"
      ]
     },
     "execution_count": 49,
     "metadata": {},
     "output_type": "execute_result"
    }
   ],
   "source": [
    "message.get_message()"
   ]
  },
  {
   "cell_type": "code",
   "execution_count": 57,
   "metadata": {},
   "outputs": [],
   "source": [
    "with open(\"replys.txt\", \"w\") as f:\n",
    "    f.write(message.get_history())"
   ]
  },
  {
   "cell_type": "code",
   "execution_count": 58,
   "metadata": {},
   "outputs": [
    {
     "ename": "NameError",
     "evalue": "name '__file__' is not defined",
     "output_type": "error",
     "traceback": [
      "\u001b[1;31m---------------------------------------------------------------------------\u001b[0m",
      "\u001b[1;31mNameError\u001b[0m                                 Traceback (most recent call last)",
      "Cell \u001b[1;32mIn[58], line 1\u001b[0m\n\u001b[1;32m----> 1\u001b[0m \u001b[38;5;18;43m__file__\u001b[39;49m\n",
      "\u001b[1;31mNameError\u001b[0m: name '__file__' is not defined"
     ]
    }
   ],
   "source": []
  }
 ],
 "metadata": {
  "kernelspec": {
   "display_name": "cs325",
   "language": "python",
   "name": "python3"
  },
  "language_info": {
   "codemirror_mode": {
    "name": "ipython",
    "version": 3
   },
   "file_extension": ".py",
   "mimetype": "text/x-python",
   "name": "python",
   "nbconvert_exporter": "python",
   "pygments_lexer": "ipython3",
   "version": "3.9.19"
  }
 },
 "nbformat": 4,
 "nbformat_minor": 2
}
