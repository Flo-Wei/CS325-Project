{
 "cells": [
  {
   "cell_type": "code",
   "execution_count": 1,
   "metadata": {},
   "outputs": [],
   "source": [
    "from ollama import Client"
   ]
  },
  {
   "cell_type": "code",
   "execution_count": 2,
   "metadata": {},
   "outputs": [],
   "source": [
    "client = Client(host='http://192.168.100.55:11434')"
   ]
  },
  {
   "cell_type": "code",
   "execution_count": 3,
   "metadata": {},
   "outputs": [],
   "source": [
    "response = client.chat(model='llama3:8b', messages=[\n",
    "  {\n",
    "    'role': 'user',\n",
    "    'content': 'Why is the sky blue?',\n",
    "  },\n",
    "])"
   ]
  },
  {
   "cell_type": "code",
   "execution_count": 4,
   "metadata": {},
   "outputs": [
    {
     "data": {
      "text/plain": [
       "{'model': 'llama3:8b',\n",
       " 'created_at': '2024-09-05T15:03:08.939005527Z',\n",
       " 'message': {'role': 'assistant',\n",
       "  'content': \"The short answer is that the sky appears blue because of a phenomenon called Rayleigh scattering, named after the British physicist Lord Rayleigh, who first described it in the late 19th century.\\n\\nHere's what happens:\\n\\n1. When sunlight enters Earth's atmosphere, it encounters tiny molecules of gases like nitrogen (N2) and oxygen (O2).\\n2. These gas molecules are much smaller than the wavelength of light, which is around 400-700 nanometers (nm) for visible light.\\n3. As a result, the shorter wavelengths of light (like blue and violet) are scattered more efficiently by these tiny molecules than the longer wavelengths (like red and orange).\\n4. This scattering effect is strongest for shorter wavelengths, so blue light is scattered in all directions and reaches our eyes from all parts of the sky.\\n5. The other colors of visible light, like red and orange, have longer wavelengths and are not scattered as much, so they continue to travel in a more direct path to our eyes, appearing less intense.\\n\\nIn summary, the sky appears blue because the shorter wavelengths of blue light are scattered by tiny gas molecules in the atmosphere, while the longer wavelengths of other colors pass through with less scattering. This is why we see the blue color we do!\\n\\nNote: The exact shade of blue can vary depending on atmospheric conditions like pollution, dust, and water vapor, which can affect the amount of scattering that occurs.\"},\n",
       " 'done_reason': 'stop',\n",
       " 'done': True,\n",
       " 'total_duration': 31967286964,\n",
       " 'load_duration': 764829774,\n",
       " 'prompt_eval_count': 16,\n",
       " 'prompt_eval_duration': 862350000,\n",
       " 'eval_count': 289,\n",
       " 'eval_duration': 30298042000}"
      ]
     },
     "execution_count": 4,
     "metadata": {},
     "output_type": "execute_result"
    }
   ],
   "source": [
    "response"
   ]
  },
  {
   "cell_type": "code",
   "execution_count": 5,
   "metadata": {},
   "outputs": [
    {
     "data": {
      "text/plain": [
       "{'status': 'success'}"
      ]
     },
     "execution_count": 5,
     "metadata": {},
     "output_type": "execute_result"
    }
   ],
   "source": [
    "client.pull(\"phi3:3.8b\")"
   ]
  },
  {
   "cell_type": "code",
   "execution_count": 6,
   "metadata": {},
   "outputs": [],
   "source": [
    "response_phi = client.chat(model='phi3:3.8b', messages=[\n",
    "  {\n",
    "    'role': 'user',\n",
    "    'content': 'Why is the sky blue?',\n",
    "  },\n",
    "])"
   ]
  },
  {
   "cell_type": "code",
   "execution_count": 7,
   "metadata": {},
   "outputs": [
    {
     "data": {
      "text/plain": [
       "{'model': 'phi3:3.8b',\n",
       " 'created_at': '2024-09-05T15:10:51.835017552Z',\n",
       " 'message': {'role': 'assistant',\n",
       "  'content': \"The color of the sky appears as a result of Rayleigh scattering. Sunlight, which contains all colors, passes through Earth's atmosphere and interacts with air molecules. These interactions cause shorter wavelength light (blue) to scatter more than other colors because it travels as smaller, shorter waves compared to red or yellow sunlight. When we look at the sky during daytime, we see this scattered blue light from all directions overhead due to our position relative to the Sun, which is why the sky looks predominantly blue on a clear day. At sunrrancerly-aligned angles like dawn and dusk where paths through more of the atmosphere have been traversed by incoming or outgoing sunlight (like during twilight), we see reds and yellows due to lesser scattering, which is why these colors dominate at those times.\"},\n",
       " 'done_reason': 'stop',\n",
       " 'done': True,\n",
       " 'total_duration': 12651157162,\n",
       " 'load_duration': 1262654908,\n",
       " 'prompt_eval_count': 15,\n",
       " 'prompt_eval_duration': 546134000,\n",
       " 'eval_count': 182,\n",
       " 'eval_duration': 10750229000}"
      ]
     },
     "execution_count": 7,
     "metadata": {},
     "output_type": "execute_result"
    }
   ],
   "source": [
    "response_phi"
   ]
  },
  {
   "cell_type": "code",
   "execution_count": 10,
   "metadata": {},
   "outputs": [],
   "source": [
    "t = response_phi[\"total_duration\"]"
   ]
  },
  {
   "cell_type": "code",
   "execution_count": 12,
   "metadata": {},
   "outputs": [
    {
     "data": {
      "text/plain": [
       "210852.61936666668"
      ]
     },
     "execution_count": 12,
     "metadata": {},
     "output_type": "execute_result"
    }
   ],
   "source": [
    "t / 1000 / 60"
   ]
  }
 ],
 "metadata": {
  "kernelspec": {
   "display_name": "cs325",
   "language": "python",
   "name": "python3"
  },
  "language_info": {
   "codemirror_mode": {
    "name": "ipython",
    "version": 3
   },
   "file_extension": ".py",
   "mimetype": "text/x-python",
   "name": "python",
   "nbconvert_exporter": "python",
   "pygments_lexer": "ipython3",
   "version": "3.9.19"
  }
 },
 "nbformat": 4,
 "nbformat_minor": 2
}
